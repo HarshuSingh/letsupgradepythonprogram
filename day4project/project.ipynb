{
  "nbformat": 4,
  "nbformat_minor": 0,
  "metadata": {
    "colab": {
      "name": "project.ipynb",
      "provenance": []
    },
    "kernelspec": {
      "name": "python3",
      "display_name": "Python 3"
    },
    "language_info": {
      "name": "python"
    }
  },
  "cells": [
    {
      "cell_type": "code",
      "metadata": {
        "colab": {
          "base_uri": "https://localhost:8080/"
        },
        "id": "LdScrQlAKDQj",
        "outputId": "931b4d51-64fd-4f5b-e13f-9e6c8fef4b73"
      },
      "source": [
        "print(\"Hey guys i am a chemist in india \")\n",
        "print(\"Welcome to my Temperature Conversor Project\")\n",
        "print(\"I have made this where you can convert celsius to fahrenheit\")\n",
        "# Collect input from the user  \n",
        "celsius = float(input('Enter temperature in Celsius: '))  \n",
        "  \n",
        "# calculate temperature in Fahrenheit  \n",
        "fahrenheit = (celsius * 1.8) + 32  \n",
        "print('%0.1f  Celsius is equal to %0.1f degree Fahrenheit'%(celsius,fahrenheit))"
      ],
      "execution_count": 1,
      "outputs": [
        {
          "output_type": "stream",
          "text": [
            "Hey guys i am a chemist in india \n",
            "Welcome to my Temperature Conversor Project\n",
            "I have made this where you can convert celsius to fahrenheit\n",
            "Enter temperature in Celsius: 27\n",
            "27.0  Celsius is equal to 80.6 degree Fahrenheit\n"
          ],
          "name": "stdout"
        }
      ]
    }
  ]
}