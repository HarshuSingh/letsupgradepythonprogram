{
  "nbformat": 4,
  "nbformat_minor": 0,
  "metadata": {
    "colab": {
      "name": "Python Zero to Hero.ipynb",
      "provenance": [],
      "collapsed_sections": []
    },
    "kernelspec": {
      "name": "python3",
      "display_name": "Python 3"
    },
    "language_info": {
      "name": "python"
    }
  },
  "cells": [
    {
      "cell_type": "code",
      "metadata": {
        "colab": {
          "base_uri": "https://localhost:8080/"
        },
        "id": "HxvwVznJT6_5",
        "outputId": "654dab51-82b8-4d79-c134-dfae8988586d"
      },
      "source": [
        "# It is very simple\n",
        "# Easiliy readable\n",
        "# No Strict syntax\n",
        "# Dynamically Typed Language\n",
        " \n",
        "''''\n",
        "Welcome to\n",
        "Essentials 2.0\n",
        "'''\n",
        " \n",
        "print('''hello world''')\n",
        "print(\"\"\"Hello LetsUpgraders\"\"\")"
      ],
      "execution_count": null,
      "outputs": [
        {
          "output_type": "stream",
          "text": [
            "hello world\n",
            "Hello LetsUpgraders\n"
          ],
          "name": "stdout"
        }
      ]
    },
    {
      "cell_type": "code",
      "metadata": {
        "colab": {
          "base_uri": "https://localhost:8080/"
        },
        "id": "OcZJYPKKcdHZ",
        "outputId": "7381ca80-e625-4bd2-effc-9d09c0a79660"
      },
      "source": [
        "print('hello')\n",
        "print('coders')\n",
        "\n",
        "\n",
        "print('hello', end = '@')\n",
        "print('coders')\n",
        "\n",
        "\n",
        "print('hello', 'coders')"
      ],
      "execution_count": null,
      "outputs": [
        {
          "output_type": "stream",
          "text": [
            "hello\n",
            "coders\n",
            "hello@coders\n",
            "hello coders\n"
          ],
          "name": "stdout"
        }
      ]
    },
    {
      "cell_type": "code",
      "metadata": {
        "colab": {
          "base_uri": "https://localhost:8080/"
        },
        "id": "tTS8hb3BdBAZ",
        "outputId": "376d3556-6647-484c-aec9-e94dd6679a84"
      },
      "source": [
        "a = 20\n",
        "print(type(a))\n",
        "\n",
        "a = 'hello'\n",
        "print(type(a))\n",
        "\n",
        "a = '$'\n",
        "print(type(a))"
      ],
      "execution_count": null,
      "outputs": [
        {
          "output_type": "stream",
          "text": [
            "<class 'int'>\n",
            "<class 'str'>\n",
            "<class 'str'>\n"
          ],
          "name": "stdout"
        }
      ]
    },
    {
      "cell_type": "code",
      "metadata": {
        "colab": {
          "base_uri": "https://localhost:8080/"
        },
        "id": "3CK9ivfMgG2n",
        "outputId": "ac2e4377-4037-4cb3-9564-938986a311d2"
      },
      "source": [
        "x = 10.25\n",
        "print(type(x))"
      ],
      "execution_count": null,
      "outputs": [
        {
          "output_type": "stream",
          "text": [
            "<class 'float'>\n"
          ],
          "name": "stdout"
        }
      ]
    },
    {
      "cell_type": "code",
      "metadata": {
        "id": "hDJWAyZdgoDs"
      },
      "source": [
        "x = 10\n",
        "y = 20\n",
        "z = 30"
      ],
      "execution_count": null,
      "outputs": []
    },
    {
      "cell_type": "code",
      "metadata": {
        "id": "4pTCD3fXg4cU"
      },
      "source": [
        "x, y, z = 10, 20, 30"
      ],
      "execution_count": null,
      "outputs": []
    },
    {
      "cell_type": "code",
      "metadata": {
        "colab": {
          "base_uri": "https://localhost:8080/",
          "height": 133
        },
        "id": "ipwmHax7hCLM",
        "outputId": "874893f2-9ff6-46a4-fc72-5a6a605ecc8f"
      },
      "source": [
        "a = @\n",
        "print(type(a))"
      ],
      "execution_count": null,
      "outputs": [
        {
          "output_type": "error",
          "ename": "SyntaxError",
          "evalue": "ignored",
          "traceback": [
            "\u001b[0;36m  File \u001b[0;32m\"<ipython-input-23-416da7ff5db6>\"\u001b[0;36m, line \u001b[0;32m1\u001b[0m\n\u001b[0;31m    a = @\u001b[0m\n\u001b[0m        ^\u001b[0m\n\u001b[0;31mSyntaxError\u001b[0m\u001b[0;31m:\u001b[0m invalid syntax\n"
          ]
        }
      ]
    },
    {
      "cell_type": "code",
      "metadata": {
        "colab": {
          "base_uri": "https://localhost:8080/"
        },
        "id": "-f1zi8yMhFTy",
        "outputId": "a133ba8a-2bc9-47df-a95b-a73517507a81"
      },
      "source": [
        "a = b = c = 20\n",
        "print(a, b, c)\n",
        "\n",
        "print(id(a))\n",
        "print(id(b))\n",
        "print(id(c))"
      ],
      "execution_count": null,
      "outputs": [
        {
          "output_type": "stream",
          "text": [
            "20 20 20\n",
            "94394549927008\n",
            "94394549927008\n",
            "94394549927008\n"
          ],
          "name": "stdout"
        }
      ]
    },
    {
      "cell_type": "code",
      "metadata": {
        "colab": {
          "base_uri": "https://localhost:8080/"
        },
        "id": "vrqCyeP0hXjw",
        "outputId": "43891f10-1299-4c34-b578-fb82a0c3d911"
      },
      "source": [
        "a = b = c = 20\n",
        "\n",
        "print(id(a))\n",
        "print(id(b))\n",
        "print(id(c))\n",
        "\n",
        "b = 30\n",
        "\n",
        "print(a, b, c) #immutability\n",
        "\n",
        "print(id(a), id(b), id(c))\n",
        "print(type(id(a)))\n",
        "\n",
        "b = 20\n",
        "print(id(a), id(b), id(c))"
      ],
      "execution_count": null,
      "outputs": [
        {
          "output_type": "stream",
          "text": [
            "94394549927008\n",
            "94394549927008\n",
            "94394549927008\n",
            "20 30 20\n",
            "94394549927008 94394549927328 94394549927008\n",
            "<class 'int'>\n",
            "94394549927008 94394549927008 94394549927008\n"
          ],
          "name": "stdout"
        }
      ]
    },
    {
      "cell_type": "code",
      "metadata": {
        "colab": {
          "base_uri": "https://localhost:8080/"
        },
        "id": "_PjNnv9qi107",
        "outputId": "eb0c52fd-50e6-4d5a-a606-2271edbcf6ca"
      },
      "source": [
        "x = int(input(\"Enter first value: \"))\n",
        "y = int(input(\"Enter second value: \"))\n",
        "\n",
        "print(type(x), type(y))\n",
        "\n",
        "print(x + y)"
      ],
      "execution_count": null,
      "outputs": [
        {
          "output_type": "stream",
          "text": [
            "Enter first value: 12\n",
            "Enter second value: 15\n",
            "<class 'int'> <class 'int'>\n",
            "27\n"
          ],
          "name": "stdout"
        }
      ]
    },
    {
      "cell_type": "code",
      "metadata": {
        "colab": {
          "base_uri": "https://localhost:8080/"
        },
        "id": "_flIEh2GkZLw",
        "outputId": "2e5d6d84-a694-4088-e0bd-1e087995979e"
      },
      "source": [
        "x = input('Enter values: ')\n",
        "print(x)\n",
        "print(type(x))\n",
        "\n",
        "\"10 20 30 40 50\""
      ],
      "execution_count": null,
      "outputs": [
        {
          "output_type": "stream",
          "text": [
            "Enter values: 10 20 30 40 50\n",
            "10 20 30 40 50\n",
            "<class 'str'>\n"
          ],
          "name": "stdout"
        }
      ]
    },
    {
      "cell_type": "code",
      "metadata": {
        "colab": {
          "base_uri": "https://localhost:8080/",
          "height": 203
        },
        "id": "JUZ-BWHhlSct",
        "outputId": "707d3534-b54d-4b9b-e5f5-6c3fadf1850b"
      },
      "source": [
        "x = int(input('Enter values: '))\n",
        "print(x)"
      ],
      "execution_count": null,
      "outputs": [
        {
          "output_type": "stream",
          "text": [
            "Enter values: 10 20 30 40 50\n"
          ],
          "name": "stdout"
        },
        {
          "output_type": "error",
          "ename": "ValueError",
          "evalue": "ignored",
          "traceback": [
            "\u001b[0;31m---------------------------------------------------------------------------\u001b[0m",
            "\u001b[0;31mValueError\u001b[0m                                Traceback (most recent call last)",
            "\u001b[0;32m<ipython-input-39-8bb0d1e37852>\u001b[0m in \u001b[0;36m<module>\u001b[0;34m()\u001b[0m\n\u001b[0;32m----> 1\u001b[0;31m \u001b[0mx\u001b[0m \u001b[0;34m=\u001b[0m \u001b[0mint\u001b[0m\u001b[0;34m(\u001b[0m\u001b[0minput\u001b[0m\u001b[0;34m(\u001b[0m\u001b[0;34m'Enter values: '\u001b[0m\u001b[0;34m)\u001b[0m\u001b[0;34m)\u001b[0m\u001b[0;34m\u001b[0m\u001b[0;34m\u001b[0m\u001b[0m\n\u001b[0m\u001b[1;32m      2\u001b[0m \u001b[0mprint\u001b[0m\u001b[0;34m(\u001b[0m\u001b[0mx\u001b[0m\u001b[0;34m)\u001b[0m\u001b[0;34m\u001b[0m\u001b[0;34m\u001b[0m\u001b[0m\n",
            "\u001b[0;31mValueError\u001b[0m: invalid literal for int() with base 10: '10 20 30 40 50'"
          ]
        }
      ]
    },
    {
      "cell_type": "code",
      "metadata": {
        "colab": {
          "base_uri": "https://localhost:8080/"
        },
        "id": "wtJVWyO3lxX0",
        "outputId": "e0c75d97-5b68-4741-c5ec-5f6b2262d08c"
      },
      "source": [
        "x = input('Enter values: ')\n",
        "print(type(x))\n",
        "\n",
        "val = [int(i) for i in x.split()]\n",
        "print(val)\n",
        "\n"
      ],
      "execution_count": null,
      "outputs": [
        {
          "output_type": "stream",
          "text": [
            "Enter values: 10 20 30 40 50\n",
            "<class 'str'>\n",
            "[10, 20, 30, 40, 50]\n"
          ],
          "name": "stdout"
        }
      ]
    },
    {
      "cell_type": "code",
      "metadata": {
        "colab": {
          "base_uri": "https://localhost:8080/"
        },
        "id": "sVMH2_rYmIhS",
        "outputId": "7cb93e48-eabe-4cf9-91dc-b2b26841316e"
      },
      "source": [
        "li = ['hello', 35, 10.25, '&']\n",
        "print(li)\n",
        "print(type(li))"
      ],
      "execution_count": null,
      "outputs": [
        {
          "output_type": "stream",
          "text": [
            "['hello', 35, 10.25, '&']\n",
            "<class 'list'>\n"
          ],
          "name": "stdout"
        }
      ]
    },
    {
      "cell_type": "code",
      "metadata": {
        "id": "N-bjd2t-nBdA"
      },
      "source": [
        "li = [12, 10, 4, 7, 1, 3]\n",
        "li.sort()"
      ],
      "execution_count": null,
      "outputs": []
    },
    {
      "cell_type": "code",
      "metadata": {
        "colab": {
          "base_uri": "https://localhost:8080/"
        },
        "id": "x1_VFlkFnR-N",
        "outputId": "22763067-0a5b-4f0d-ecfe-2d6d9a0d3781"
      },
      "source": [
        "print(li)"
      ],
      "execution_count": null,
      "outputs": [
        {
          "output_type": "stream",
          "text": [
            "[1, 3, 4, 7, 10, 12]\n"
          ],
          "name": "stdout"
        }
      ]
    },
    {
      "cell_type": "code",
      "metadata": {
        "colab": {
          "base_uri": "https://localhost:8080/"
        },
        "id": "Obmp3jZenTxZ",
        "outputId": "43aa5f9b-25ee-4e05-d463-52fc5ced04d8"
      },
      "source": [
        "li.reverse()\n",
        "print(li)"
      ],
      "execution_count": null,
      "outputs": [
        {
          "output_type": "stream",
          "text": [
            "[12, 10, 7, 4, 3, 1]\n"
          ],
          "name": "stdout"
        }
      ]
    },
    {
      "cell_type": "code",
      "metadata": {
        "colab": {
          "base_uri": "https://localhost:8080/"
        },
        "id": "VmvllVIgnej7",
        "outputId": "40633386-4bd2-4240-8ea5-6f1b012ad6a8"
      },
      "source": [
        "# Slicing\n",
        "\n",
        "li = [12, 25, 10, 5, 1, 3]\n",
        "print(li[0:5])  #[start : end]"
      ],
      "execution_count": null,
      "outputs": [
        {
          "output_type": "stream",
          "text": [
            "[12, 25, 10, 5, 1]\n"
          ],
          "name": "stdout"
        }
      ]
    },
    {
      "cell_type": "code",
      "metadata": {
        "colab": {
          "base_uri": "https://localhost:8080/"
        },
        "id": "VVLtGNtqoLfW",
        "outputId": "485a2098-1f78-4952-9f62-1901d3d1c4c6"
      },
      "source": [
        "li = [int(i) for i in input('Enter values: ').split()]\n"
      ],
      "execution_count": null,
      "outputs": [
        {
          "output_type": "stream",
          "text": [
            "Enter values: 10 20 30 40\n"
          ],
          "name": "stdout"
        }
      ]
    },
    {
      "cell_type": "code",
      "metadata": {
        "colab": {
          "base_uri": "https://localhost:8080/"
        },
        "id": "QxvUbWLFozYz",
        "outputId": "49b3b584-1077-47cd-9a4b-d43d6de3c341"
      },
      "source": [
        "x = \"h e l l o\"\n",
        "y = x.split()\n",
        "print(y)"
      ],
      "execution_count": null,
      "outputs": [
        {
          "output_type": "stream",
          "text": [
            "['h', 'e', 'l', 'l', 'o']\n"
          ],
          "name": "stdout"
        }
      ]
    },
    {
      "cell_type": "code",
      "metadata": {
        "id": "YDVlBqJppBQx",
        "colab": {
          "base_uri": "https://localhost:8080/"
        },
        "outputId": "9fe78bdb-da64-4f31-927f-525e5a5c4f5d"
      },
      "source": [
        "li = [12, 5, 10, 3, 2, 4]\n",
        "print(li[0 : 3])\n",
        "print(li[ : 3])\n",
        "print(li[1 : 3])\n",
        "print(li[2 : ])\n",
        "print(li[:])\n",
        "print(li[2 : 5])\n",
        "\n",
        "\n",
        "print(li[4])"
      ],
      "execution_count": null,
      "outputs": [
        {
          "output_type": "stream",
          "text": [
            "[12, 5, 10]\n",
            "[12, 5, 10]\n",
            "[5, 10]\n",
            "[10, 3, 2, 4]\n",
            "[12, 5, 10, 3, 2, 4]\n",
            "[10, 3, 2]\n",
            "2\n"
          ],
          "name": "stdout"
        }
      ]
    },
    {
      "cell_type": "code",
      "metadata": {
        "colab": {
          "base_uri": "https://localhost:8080/"
        },
        "id": "TJ6rVYpxMu6V",
        "outputId": "8bef2052-68c7-470c-b7b7-47e9b607984d"
      },
      "source": [
        "print(li[-3])"
      ],
      "execution_count": null,
      "outputs": [
        {
          "output_type": "stream",
          "text": [
            "3\n"
          ],
          "name": "stdout"
        }
      ]
    },
    {
      "cell_type": "code",
      "metadata": {
        "colab": {
          "base_uri": "https://localhost:8080/"
        },
        "id": "v65VZNh6Oj9G",
        "outputId": "8f3707a0-c877-4fbe-87d1-505727028a61"
      },
      "source": [
        "li = [12, 5, 10, 3, 2, 4]\n",
        "print(li[1 : 6 : 1]) # start, end, step\n",
        "print(li[1 : 6 : 2])\n",
        "\n",
        "print(li[: : 1])\n",
        "print(li[: : 2])\n",
        "\n",
        "print(li[::-1])"
      ],
      "execution_count": null,
      "outputs": [
        {
          "output_type": "stream",
          "text": [
            "[5, 10, 3, 2, 4]\n",
            "[5, 3, 4]\n",
            "[12, 5, 10, 3, 2, 4]\n",
            "[12, 10, 2]\n",
            "[4, 2, 3, 10, 5, 12]\n"
          ],
          "name": "stdout"
        }
      ]
    },
    {
      "cell_type": "code",
      "metadata": {
        "colab": {
          "base_uri": "https://localhost:8080/"
        },
        "id": "xmw68ZHnO-Ro",
        "outputId": "aa218a1b-138a-457d-eef9-8c097181ea7f"
      },
      "source": [
        "print(li)"
      ],
      "execution_count": null,
      "outputs": [
        {
          "output_type": "stream",
          "text": [
            "[12, 5, 10, 3, 2, 4]\n"
          ],
          "name": "stdout"
        }
      ]
    },
    {
      "cell_type": "code",
      "metadata": {
        "colab": {
          "base_uri": "https://localhost:8080/"
        },
        "id": "Ny4mZUR9k7Vp",
        "outputId": "57d3a4cd-1e1f-4058-b999-c5cd58ffbb5b"
      },
      "source": [
        "li.reverse()\n",
        "print(li)"
      ],
      "execution_count": null,
      "outputs": [
        {
          "output_type": "stream",
          "text": [
            "[4, 2, 3, 10, 5, 12]\n"
          ],
          "name": "stdout"
        }
      ]
    },
    {
      "cell_type": "code",
      "metadata": {
        "colab": {
          "base_uri": "https://localhost:8080/"
        },
        "id": "8c5GzEeUk_zH",
        "outputId": "99f00743-e8a3-4bf7-e6cf-67d97b958b04"
      },
      "source": [
        "#repetition\n",
        "li = [1, 2, 3]\n",
        "print(li * 5)\n"
      ],
      "execution_count": null,
      "outputs": [
        {
          "output_type": "stream",
          "text": [
            "[1, 2, 3, 1, 2, 3, 1, 2, 3, 1, 2, 3, 1, 2, 3]\n"
          ],
          "name": "stdout"
        }
      ]
    },
    {
      "cell_type": "code",
      "metadata": {
        "colab": {
          "base_uri": "https://localhost:8080/"
        },
        "id": "_yDixlDTlo5k",
        "outputId": "a09c15f2-f829-4696-975b-8a1d751c4461"
      },
      "source": [
        "#concatenation\n",
        "first = [1, 2, 3]\n",
        "last = [4, 5, 6]\n",
        "print(first + last)"
      ],
      "execution_count": null,
      "outputs": [
        {
          "output_type": "stream",
          "text": [
            "[1, 2, 3, 4, 5, 6]\n"
          ],
          "name": "stdout"
        }
      ]
    },
    {
      "cell_type": "code",
      "metadata": {
        "colab": {
          "base_uri": "https://localhost:8080/"
        },
        "id": "spZOTkSQl6DH",
        "outputId": "4af63c43-42dd-4cf1-c801-b0e999bd04f7"
      },
      "source": [
        "#membership\n",
        "\n",
        "li = [10, 20 , 30, 40, 50, 60]\n",
        "print(35 in li)"
      ],
      "execution_count": null,
      "outputs": [
        {
          "output_type": "stream",
          "text": [
            "False\n"
          ],
          "name": "stdout"
        }
      ]
    },
    {
      "cell_type": "code",
      "metadata": {
        "colab": {
          "base_uri": "https://localhost:8080/"
        },
        "id": "0eDH7Y2WmOob",
        "outputId": "72670c53-939c-4c4d-a3e8-1a0ec197b3d1"
      },
      "source": [
        "#iteration\n",
        "li = [10, 20 , 30, 40, 50, 60]\n",
        "for i in li:\n",
        "  print(i, end = ' ')\n"
      ],
      "execution_count": null,
      "outputs": [
        {
          "output_type": "stream",
          "text": [
            "10 20 30 40 50 60 "
          ],
          "name": "stdout"
        }
      ]
    },
    {
      "cell_type": "code",
      "metadata": {
        "colab": {
          "base_uri": "https://localhost:8080/"
        },
        "id": "9Iq-OXVnmk_7",
        "outputId": "5e016f4b-4071-454e-c620-f05b5ad02627"
      },
      "source": [
        "print(li)\n",
        "li.append(4)\n",
        "print(li)\n",
        "li.append(5)\n",
        "print(li)"
      ],
      "execution_count": null,
      "outputs": [
        {
          "output_type": "stream",
          "text": [
            "[1, 2, 3, 4, 4]\n",
            "[1, 2, 3, 4, 4, 4]\n",
            "[1, 2, 3, 4, 4, 4, 5]\n"
          ],
          "name": "stdout"
        }
      ]
    },
    {
      "cell_type": "code",
      "metadata": {
        "colab": {
          "base_uri": "https://localhost:8080/"
        },
        "id": "lJmjpMstnERd",
        "outputId": "ffb8dbb8-6333-45e8-d9bd-807f18dca73f"
      },
      "source": [
        "li.pop(2)\n",
        "print(li)"
      ],
      "execution_count": null,
      "outputs": [
        {
          "output_type": "stream",
          "text": [
            "[1, 2, 4, 4, 4, 5]\n"
          ],
          "name": "stdout"
        }
      ]
    },
    {
      "cell_type": "code",
      "metadata": {
        "colab": {
          "base_uri": "https://localhost:8080/"
        },
        "id": "feQeuvZAn4jV",
        "outputId": "58ae0430-f42b-40fd-f66c-d81c712012d5"
      },
      "source": [
        "li.remove(2)\n",
        "print(li)"
      ],
      "execution_count": null,
      "outputs": [
        {
          "output_type": "stream",
          "text": [
            "[1, 4, 4, 4, 5]\n"
          ],
          "name": "stdout"
        }
      ]
    },
    {
      "cell_type": "code",
      "metadata": {
        "colab": {
          "base_uri": "https://localhost:8080/"
        },
        "id": "gJte3BZDoGu_",
        "outputId": "c93656db-17d6-4ecd-9bb7-cf29e25c5511"
      },
      "source": [
        "li.insert(3, 7)\n",
        "print(li)"
      ],
      "execution_count": null,
      "outputs": [
        {
          "output_type": "stream",
          "text": [
            "[1, 4, 4, 7, 4, 5]\n"
          ],
          "name": "stdout"
        }
      ]
    },
    {
      "cell_type": "code",
      "metadata": {
        "colab": {
          "base_uri": "https://localhost:8080/"
        },
        "id": "8PPfpFOloUv7",
        "outputId": "c3ae95e3-20ab-4c30-fe88-4817dbcf09f3"
      },
      "source": [
        "li.remove(4)\n",
        "print(li)"
      ],
      "execution_count": null,
      "outputs": [
        {
          "output_type": "stream",
          "text": [
            "[1, 4, 7, 4, 5]\n"
          ],
          "name": "stdout"
        }
      ]
    },
    {
      "cell_type": "code",
      "metadata": {
        "colab": {
          "base_uri": "https://localhost:8080/"
        },
        "id": "r0M3CaJKoh7z",
        "outputId": "110eb7e1-c078-42f8-e218-4693f6096ccd"
      },
      "source": [
        "# del li - delete the list\n",
        "\n",
        "print(li.count(4))\n",
        "print(li.index(5))"
      ],
      "execution_count": null,
      "outputs": [
        {
          "output_type": "stream",
          "text": [
            "2\n",
            "4\n"
          ],
          "name": "stdout"
        }
      ]
    },
    {
      "cell_type": "code",
      "metadata": {
        "id": "RRRW5mbdozYd"
      },
      "source": [
        "# Assignment2 -  Remove all occurences of an element from a list"
      ],
      "execution_count": null,
      "outputs": []
    },
    {
      "cell_type": "code",
      "metadata": {
        "colab": {
          "base_uri": "https://localhost:8080/"
        },
        "id": "Cz0DwDYmpRnR",
        "outputId": "451fd0c3-b4c5-455a-cc40-a76a7592f4b4"
      },
      "source": [
        "#Tuple - Immutable\n",
        "\n",
        "t = (1, 2, 3, 'hello', 10.35)\n",
        "print(t)\n",
        "print(type(t))"
      ],
      "execution_count": null,
      "outputs": [
        {
          "output_type": "stream",
          "text": [
            "(1, 2, 3, 'hello', 10.35)\n",
            "<class 'tuple'>\n"
          ],
          "name": "stdout"
        }
      ]
    },
    {
      "cell_type": "code",
      "metadata": {
        "colab": {
          "base_uri": "https://localhost:8080/",
          "height": 203
        },
        "id": "WitdQCtLpYzA",
        "outputId": "6c132295-6fc9-440d-a40d-af538eebaf4e"
      },
      "source": [
        "li = (1, 2, 3)\n",
        "li[0] = 5\n",
        "print(li)"
      ],
      "execution_count": null,
      "outputs": [
        {
          "output_type": "error",
          "ename": "TypeError",
          "evalue": "ignored",
          "traceback": [
            "\u001b[0;31m---------------------------------------------------------------------------\u001b[0m",
            "\u001b[0;31mTypeError\u001b[0m                                 Traceback (most recent call last)",
            "\u001b[0;32m<ipython-input-48-89aa0f5ba4c4>\u001b[0m in \u001b[0;36m<module>\u001b[0;34m()\u001b[0m\n\u001b[1;32m      1\u001b[0m \u001b[0mli\u001b[0m \u001b[0;34m=\u001b[0m \u001b[0;34m(\u001b[0m\u001b[0;36m1\u001b[0m\u001b[0;34m,\u001b[0m \u001b[0;36m2\u001b[0m\u001b[0;34m,\u001b[0m \u001b[0;36m3\u001b[0m\u001b[0;34m)\u001b[0m\u001b[0;34m\u001b[0m\u001b[0;34m\u001b[0m\u001b[0m\n\u001b[0;32m----> 2\u001b[0;31m \u001b[0mli\u001b[0m\u001b[0;34m[\u001b[0m\u001b[0;36m0\u001b[0m\u001b[0;34m]\u001b[0m \u001b[0;34m=\u001b[0m \u001b[0;36m5\u001b[0m\u001b[0;34m\u001b[0m\u001b[0;34m\u001b[0m\u001b[0m\n\u001b[0m\u001b[1;32m      3\u001b[0m \u001b[0mprint\u001b[0m\u001b[0;34m(\u001b[0m\u001b[0mli\u001b[0m\u001b[0;34m)\u001b[0m\u001b[0;34m\u001b[0m\u001b[0;34m\u001b[0m\u001b[0m\n",
            "\u001b[0;31mTypeError\u001b[0m: 'tuple' object does not support item assignment"
          ]
        }
      ]
    },
    {
      "cell_type": "code",
      "metadata": {
        "id": "yl-IVzwmpv8e"
      },
      "source": [
        "# Methods\n",
        "#-count()\n",
        "# -index()"
      ],
      "execution_count": null,
      "outputs": []
    },
    {
      "cell_type": "code",
      "metadata": {
        "colab": {
          "base_uri": "https://localhost:8080/",
          "height": 221
        },
        "id": "BfRErM4Ap_oL",
        "outputId": "2c59da3d-e50e-4c32-f7fc-ad7653058e2c"
      },
      "source": [
        "tup = (1, 2, 3, [4, 5, 6])\n",
        "tup[3][1] = 10\n",
        "print(tup)\n",
        "\n",
        "tup[1] = 20"
      ],
      "execution_count": null,
      "outputs": [
        {
          "output_type": "stream",
          "text": [
            "(1, 2, 3, [4, 10, 6])\n"
          ],
          "name": "stdout"
        },
        {
          "output_type": "error",
          "ename": "TypeError",
          "evalue": "ignored",
          "traceback": [
            "\u001b[0;31m---------------------------------------------------------------------------\u001b[0m",
            "\u001b[0;31mTypeError\u001b[0m                                 Traceback (most recent call last)",
            "\u001b[0;32m<ipython-input-52-ec5058ffda3a>\u001b[0m in \u001b[0;36m<module>\u001b[0;34m()\u001b[0m\n\u001b[1;32m      3\u001b[0m \u001b[0mprint\u001b[0m\u001b[0;34m(\u001b[0m\u001b[0mtup\u001b[0m\u001b[0;34m)\u001b[0m\u001b[0;34m\u001b[0m\u001b[0;34m\u001b[0m\u001b[0m\n\u001b[1;32m      4\u001b[0m \u001b[0;34m\u001b[0m\u001b[0m\n\u001b[0;32m----> 5\u001b[0;31m \u001b[0mtup\u001b[0m\u001b[0;34m[\u001b[0m\u001b[0;36m1\u001b[0m\u001b[0;34m]\u001b[0m \u001b[0;34m=\u001b[0m \u001b[0;36m20\u001b[0m\u001b[0;34m\u001b[0m\u001b[0;34m\u001b[0m\u001b[0m\n\u001b[0m",
            "\u001b[0;31mTypeError\u001b[0m: 'tuple' object does not support item assignment"
          ]
        }
      ]
    },
    {
      "cell_type": "code",
      "metadata": {
        "colab": {
          "base_uri": "https://localhost:8080/"
        },
        "id": "aNxZHyHHqZ1m",
        "outputId": "ec099683-e869-4eb8-ee9f-073a7a1df2dd"
      },
      "source": [
        "li = [1]\n",
        "print(type(li))\n",
        "\n",
        "tup = (10)\n",
        "print(type(tup))\n",
        "\n",
        "tup = (10,)\n",
        "print(type(tup))"
      ],
      "execution_count": null,
      "outputs": [
        {
          "output_type": "stream",
          "text": [
            "<class 'list'>\n",
            "<class 'int'>\n",
            "<class 'tuple'>\n"
          ],
          "name": "stdout"
        }
      ]
    },
    {
      "cell_type": "code",
      "metadata": {
        "colab": {
          "base_uri": "https://localhost:8080/"
        },
        "id": "mftuJdW7qrQB",
        "outputId": "d8b7783e-6385-4c73-d727-5d7c62ac5153"
      },
      "source": [
        "#set\n",
        "\n",
        "num = {1, 2, 3, 4, 5}\n",
        "print(type(num))"
      ],
      "execution_count": null,
      "outputs": [
        {
          "output_type": "stream",
          "text": [
            "<class 'set'>\n"
          ],
          "name": "stdout"
        }
      ]
    },
    {
      "cell_type": "code",
      "metadata": {
        "colab": {
          "base_uri": "https://localhost:8080/"
        },
        "id": "UhUQAcfQrNqw",
        "outputId": "1746ff3c-539a-4dea-d285-e261263b479f"
      },
      "source": [
        "li = [5, 4, 2, 5, 1, 3]\n",
        "print(li)\n",
        "\n",
        "num = {5, 4, 2, 5, 1, 3}\n",
        "print(num)"
      ],
      "execution_count": null,
      "outputs": [
        {
          "output_type": "stream",
          "text": [
            "[5, 4, 2, 5, 1, 3]\n",
            "{1, 2, 3, 4, 5}\n"
          ],
          "name": "stdout"
        }
      ]
    },
    {
      "cell_type": "code",
      "metadata": {
        "colab": {
          "base_uri": "https://localhost:8080/"
        },
        "id": "itftbctxrcuQ",
        "outputId": "07445f1c-7eb9-4016-8401-0b7acd3aceb2"
      },
      "source": [
        "num1 = {1, 5, 3, 2}\n",
        "num2 = {5, 2, 4, 7}\n",
        "print(num1 - num2)\n",
        "print(num1 & num2)\n",
        "print(num1 | num2)"
      ],
      "execution_count": null,
      "outputs": [
        {
          "output_type": "stream",
          "text": [
            "{1, 3}\n",
            "{2, 5}\n",
            "{1, 2, 3, 4, 5, 7}\n"
          ],
          "name": "stdout"
        }
      ]
    },
    {
      "cell_type": "code",
      "metadata": {
        "colab": {
          "base_uri": "https://localhost:8080/"
        },
        "id": "UTRFpIJqsGGr",
        "outputId": "6bd0b3c1-3dd9-408b-a0c8-52d32d31e216"
      },
      "source": [
        "#Dictionary\n",
        "''\n",
        "details = {\"name\" : \"Harry\", \"Age\": 13, \"Power\" : \"magic\"}\n",
        "print(type(details))\n",
        "print(details['Age'])\n",
        "print(details.get('Age'))\n",
        "\n",
        "print(details.get('pet'))\n",
        "print(details.get('pet', 0))"
      ],
      "execution_count": null,
      "outputs": [
        {
          "output_type": "stream",
          "text": [
            "<class 'dict'>\n",
            "13\n",
            "13\n",
            "None\n",
            "0\n"
          ],
          "name": "stdout"
        }
      ]
    },
    {
      "cell_type": "code",
      "metadata": {
        "colab": {
          "base_uri": "https://localhost:8080/"
        },
        "id": "p80imKUNtprx",
        "outputId": "5a516b42-8dec-4696-80e6-e58410d32416"
      },
      "source": [
        "print(details.keys())\n",
        "print(details.values())\n",
        "print(details.items())"
      ],
      "execution_count": null,
      "outputs": [
        {
          "output_type": "stream",
          "text": [
            "dict_keys(['name', 'Age', 'Power'])\n",
            "dict_values(['Harry', 13, 'magic'])\n",
            "dict_items([('name', 'Harry'), ('Age', 13), ('Power', 'magic')])\n"
          ],
          "name": "stdout"
        }
      ]
    },
    {
      "cell_type": "code",
      "metadata": {
        "id": "FXJjiSh6ufVO"
      },
      "source": [
        "#Modules\n",
        "#Project  - Generating OTP\n",
        "\n",
        "\n",
        "# Program 1 - factorial()\n",
        "#Program 2 - import program1 and use the same factorial\n",
        "'''\n",
        "Examples: math, random, string\n",
        "\n",
        "'''"
      ],
      "execution_count": null,
      "outputs": []
    },
    {
      "cell_type": "code",
      "metadata": {
        "colab": {
          "base_uri": "https://localhost:8080/"
        },
        "id": "KmyVfDqDv74r",
        "outputId": "0a4a9828-1505-4b9a-9912-dcd9f3bba82d"
      },
      "source": [
        "import math as m\n",
        "num  = 64\n",
        "print(m.sqrt(64))\n",
        "print(m.pow(2, 5))"
      ],
      "execution_count": null,
      "outputs": [
        {
          "output_type": "stream",
          "text": [
            "8.0\n",
            "32.0\n"
          ],
          "name": "stdout"
        }
      ]
    },
    {
      "cell_type": "code",
      "metadata": {
        "colab": {
          "base_uri": "https://localhost:8080/"
        },
        "id": "3fWr76WOwOmu",
        "outputId": "da14af38-82ca-4aa4-86a2-41ce344ad786"
      },
      "source": [
        "import math as m\n",
        "print(m.sqrt(64))\n",
        "print(m.ceil(2.5))\n",
        "print(m.floor(2.5))"
      ],
      "execution_count": null,
      "outputs": [
        {
          "output_type": "stream",
          "text": [
            "8.0\n",
            "3\n",
            "2\n"
          ],
          "name": "stdout"
        }
      ]
    },
    {
      "cell_type": "code",
      "metadata": {
        "colab": {
          "base_uri": "https://localhost:8080/",
          "height": 221
        },
        "id": "pfyYAU1Aw7Qj",
        "outputId": "ceb62082-4b4f-4fe9-c9b4-c84ced1e6677"
      },
      "source": [
        "from math import sqrt\n",
        "print(sqrt(64))\n",
        "\n",
        "print(ceil(2.5))"
      ],
      "execution_count": null,
      "outputs": [
        {
          "output_type": "stream",
          "text": [
            "8.0\n"
          ],
          "name": "stdout"
        },
        {
          "output_type": "error",
          "ename": "NameError",
          "evalue": "ignored",
          "traceback": [
            "\u001b[0;31m---------------------------------------------------------------------------\u001b[0m",
            "\u001b[0;31mNameError\u001b[0m                                 Traceback (most recent call last)",
            "\u001b[0;32m<ipython-input-83-e9b6ed1ed989>\u001b[0m in \u001b[0;36m<module>\u001b[0;34m()\u001b[0m\n\u001b[1;32m      1\u001b[0m \u001b[0;32mfrom\u001b[0m \u001b[0mmath\u001b[0m \u001b[0;32mimport\u001b[0m \u001b[0msqrt\u001b[0m\u001b[0;34m\u001b[0m\u001b[0;34m\u001b[0m\u001b[0m\n\u001b[1;32m      2\u001b[0m \u001b[0mprint\u001b[0m\u001b[0;34m(\u001b[0m\u001b[0msqrt\u001b[0m\u001b[0;34m(\u001b[0m\u001b[0;36m64\u001b[0m\u001b[0;34m)\u001b[0m\u001b[0;34m)\u001b[0m\u001b[0;34m\u001b[0m\u001b[0;34m\u001b[0m\u001b[0m\n\u001b[0;32m----> 3\u001b[0;31m \u001b[0mprint\u001b[0m\u001b[0;34m(\u001b[0m\u001b[0mceil\u001b[0m\u001b[0;34m(\u001b[0m\u001b[0;36m2.5\u001b[0m\u001b[0;34m)\u001b[0m\u001b[0;34m)\u001b[0m\u001b[0;34m\u001b[0m\u001b[0;34m\u001b[0m\u001b[0m\n\u001b[0m",
            "\u001b[0;31mNameError\u001b[0m: name 'ceil' is not defined"
          ]
        }
      ]
    },
    {
      "cell_type": "code",
      "metadata": {
        "colab": {
          "base_uri": "https://localhost:8080/"
        },
        "id": "QaqhlW80xYu-",
        "outputId": "5638af4c-199f-4efd-c964-5a2388a8a4fb"
      },
      "source": [
        "## Project: OTP Generator\n",
        "# Generate a 6 character OTP\n",
        "import random as r\n",
        "import string\n",
        "length = 8\n",
        "otp = ''\n",
        "characters = string.ascii_letters + string.digits\n",
        "print(characters)\n",
        "\n",
        "for i in range(length):\n",
        "  otp = otp + r.choice(characters)\n",
        "\n",
        "print(\"OTP:\", otp)\n"
      ],
      "execution_count": null,
      "outputs": [
        {
          "output_type": "stream",
          "text": [
            "abcdefghijklmnopqrstuvwxyzABCDEFGHIJKLMNOPQRSTUVWXYZ0123456789\n",
            "OTP: ld0ogSJb\n"
          ],
          "name": "stdout"
        }
      ]
    },
    {
      "cell_type": "code",
      "metadata": {
        "colab": {
          "base_uri": "https://localhost:8080/"
        },
        "id": "280ak04Ly5aN",
        "outputId": "190bf72a-e6e0-459d-a717-5708e65ffb06"
      },
      "source": [
        "import random as r\n",
        "print(r.randint(0, 10))\n",
        "print(r.randrange(0, 10))\n",
        "print(r.random() * 50)"
      ],
      "execution_count": null,
      "outputs": [
        {
          "output_type": "stream",
          "text": [
            "1\n",
            "0\n",
            "21.0217872349821\n"
          ],
          "name": "stdout"
        }
      ]
    },
    {
      "cell_type": "code",
      "metadata": {
        "id": "S_tbnCMo0r2w"
      },
      "source": [
        "# Assignment2 -  Remove all occurences of an element from a list\n",
        "# Assignment3 - Check whether a string is pangram"
      ],
      "execution_count": null,
      "outputs": []
    },
    {
      "cell_type": "code",
      "metadata": {
        "colab": {
          "base_uri": "https://localhost:8080/"
        },
        "id": "y16O2eYdnp4O",
        "outputId": "8f9d00ad-4a05-41e8-de04-465a6c834dfd"
      },
      "source": [
        "#Tuple\n",
        "\n",
        "li = [1, 2, 3, 'hello', 20.58]\n",
        "print(type(li))\n",
        "tup = (1, 2, 3, 'hello', 20.58)\n",
        "print(type(tup))"
      ],
      "execution_count": null,
      "outputs": [
        {
          "output_type": "stream",
          "text": [
            "<class 'list'>\n",
            "<class 'tuple'>\n"
          ],
          "name": "stdout"
        }
      ]
    },
    {
      "cell_type": "code",
      "metadata": {
        "colab": {
          "base_uri": "https://localhost:8080/"
        },
        "id": "P-58aRb5nrAG",
        "outputId": "214f667d-ca6c-4880-ccb8-de0faa98c7b0"
      },
      "source": [
        "li[0] = 5\n",
        "print(li)"
      ],
      "execution_count": null,
      "outputs": [
        {
          "output_type": "stream",
          "text": [
            "[5, 2, 3, 'hello', 20.58]\n"
          ],
          "name": "stdout"
        }
      ]
    },
    {
      "cell_type": "code",
      "metadata": {
        "colab": {
          "base_uri": "https://localhost:8080/",
          "height": 185
        },
        "id": "ZuNkMsv7td6E",
        "outputId": "fe89b7fb-1ce9-4369-d08f-1a2bfb1c28c9"
      },
      "source": [
        "tup[0] = 5\n",
        "print(tup)"
      ],
      "execution_count": null,
      "outputs": [
        {
          "output_type": "error",
          "ename": "TypeError",
          "evalue": "ignored",
          "traceback": [
            "\u001b[0;31m---------------------------------------------------------------------------\u001b[0m",
            "\u001b[0;31mTypeError\u001b[0m                                 Traceback (most recent call last)",
            "\u001b[0;32m<ipython-input-5-fe6d09a5ff1f>\u001b[0m in \u001b[0;36m<module>\u001b[0;34m()\u001b[0m\n\u001b[0;32m----> 1\u001b[0;31m \u001b[0mtup\u001b[0m\u001b[0;34m[\u001b[0m\u001b[0;36m0\u001b[0m\u001b[0;34m]\u001b[0m \u001b[0;34m=\u001b[0m \u001b[0;36m5\u001b[0m\u001b[0;34m\u001b[0m\u001b[0;34m\u001b[0m\u001b[0m\n\u001b[0m\u001b[1;32m      2\u001b[0m \u001b[0mprint\u001b[0m\u001b[0;34m(\u001b[0m\u001b[0mtup\u001b[0m\u001b[0;34m)\u001b[0m\u001b[0;34m\u001b[0m\u001b[0;34m\u001b[0m\u001b[0m\n",
            "\u001b[0;31mTypeError\u001b[0m: 'tuple' object does not support item assignment"
          ]
        }
      ]
    },
    {
      "cell_type": "code",
      "metadata": {
        "colab": {
          "base_uri": "https://localhost:8080/"
        },
        "id": "e00uwXvNtkIb",
        "outputId": "bea029e2-e2be-4387-9d09-524d8b263421"
      },
      "source": [
        "x = 1, 2, 3\n",
        "print(type(x))"
      ],
      "execution_count": null,
      "outputs": [
        {
          "output_type": "stream",
          "text": [
            "<class 'tuple'>\n"
          ],
          "name": "stdout"
        }
      ]
    },
    {
      "cell_type": "code",
      "metadata": {
        "colab": {
          "base_uri": "https://localhost:8080/"
        },
        "id": "lH70yidctwJ0",
        "outputId": "5c900746-c31e-4338-a562-f6ff7d683a53"
      },
      "source": [
        "y = (10)\n",
        "print(type(y))\n",
        "\n",
        "y = (10,)\n",
        "print(type(y))"
      ],
      "execution_count": null,
      "outputs": [
        {
          "output_type": "stream",
          "text": [
            "<class 'int'>\n",
            "<class 'tuple'>\n"
          ],
          "name": "stdout"
        }
      ]
    },
    {
      "cell_type": "code",
      "metadata": {
        "colab": {
          "base_uri": "https://localhost:8080/"
        },
        "id": "IxTu58bXt3Y-",
        "outputId": "dd40b07b-2ce2-4545-d09a-ed64184d9777"
      },
      "source": [
        "tup = 1, 5, 2, 4, 7, 5, 3\n",
        "print(tup.count(5))\n",
        "print(tup.index(7))"
      ],
      "execution_count": null,
      "outputs": [
        {
          "output_type": "stream",
          "text": [
            "2\n",
            "4\n"
          ],
          "name": "stdout"
        }
      ]
    },
    {
      "cell_type": "code",
      "metadata": {
        "colab": {
          "base_uri": "https://localhost:8080/"
        },
        "id": "hPkGFC_MuMKB",
        "outputId": "4a2fcdb3-2430-434d-c393-26e4e15eecc0"
      },
      "source": [
        "# det = {key1:val2, key2 : val2}\n",
        "\n",
        "det = {'name' : 'John', 'Age' : 25, 'city' : 'Mumbai'}\n",
        "print(det)"
      ],
      "execution_count": null,
      "outputs": [
        {
          "output_type": "stream",
          "text": [
            "{'name': 'John', 'Age': 25, 'city': 'Mumbai'}\n"
          ],
          "name": "stdout"
        }
      ]
    },
    {
      "cell_type": "code",
      "metadata": {
        "colab": {
          "base_uri": "https://localhost:8080/"
        },
        "id": "yt5FL7_fvCQ6",
        "outputId": "f38ebaf9-096b-4621-a074-1818a6272727"
      },
      "source": [
        "# conditional statements\n",
        "\n",
        "amt = int(input('Enter the left out amount: '))\n",
        "if amt >= 10:\n",
        "  print(\"Chai & Biscuit\")\n",
        "else:\n",
        "  print('Do Something')\n",
        "print(\"Done\")\n"
      ],
      "execution_count": null,
      "outputs": [
        {
          "output_type": "stream",
          "text": [
            "Enter the left out amount: 5\n",
            "Do Something\n",
            "Done\n"
          ],
          "name": "stdout"
        }
      ]
    },
    {
      "cell_type": "code",
      "metadata": {
        "colab": {
          "base_uri": "https://localhost:8080/"
        },
        "id": "il1aH7efwNr-",
        "outputId": "8c5dbcef-0fb2-4000-c9db-0ca945acf17b"
      },
      "source": [
        "amt = int(input('Enter the left out amount: '))\n",
        "if amt >= 10:\n",
        "  print(\"Chai & Biscuit\")\n",
        "elif amt >= 5:\n",
        "  print('Only Chai')\n",
        "else:\n",
        "  print('Paani pio ghar jao')\n",
        "print(\"Done\")"
      ],
      "execution_count": null,
      "outputs": [
        {
          "output_type": "stream",
          "text": [
            "Enter the left out amount: 2\n",
            "Paani pio ghar jao\n",
            "Done\n"
          ],
          "name": "stdout"
        }
      ]
    },
    {
      "cell_type": "code",
      "metadata": {
        "colab": {
          "base_uri": "https://localhost:8080/",
          "height": 35
        },
        "id": "z4UURYN3yTf9",
        "outputId": "8a7c918a-eb22-4659-b791-9d31c591ce22"
      },
      "source": [
        "#Loops\n",
        "'''\n",
        " - For\n",
        " - While\n",
        "'''"
      ],
      "execution_count": null,
      "outputs": [
        {
          "output_type": "execute_result",
          "data": {
            "application/vnd.google.colaboratory.intrinsic+json": {
              "type": "string"
            },
            "text/plain": [
              "'\\n - For\\n - While\\n'"
            ]
          },
          "metadata": {
            "tags": []
          },
          "execution_count": 20
        }
      ]
    },
    {
      "cell_type": "code",
      "metadata": {
        "colab": {
          "base_uri": "https://localhost:8080/"
        },
        "id": "ND_bnwtFzoGl",
        "outputId": "e9ce66a6-4c94-4f6f-e3e3-8f5b82550075"
      },
      "source": [
        "# Initialization, condition checking, Updation of counter/loop variable\n",
        "i = 1 # loop variable\n",
        "while i <= 10:\n",
        "  print('5', end = \" \")\n",
        "  i = i + 1\n"
      ],
      "execution_count": null,
      "outputs": [
        {
          "output_type": "stream",
          "text": [
            "5 5 5 5 5 5 5 5 5 5 "
          ],
          "name": "stdout"
        }
      ]
    },
    {
      "cell_type": "code",
      "metadata": {
        "colab": {
          "base_uri": "https://localhost:8080/"
        },
        "id": "d6uRXdk80-eB",
        "outputId": "83999b09-fa60-46e1-8dad-386265154dbf"
      },
      "source": [
        "for i in range(10): # 0, 1, 2, 3, 4, 5, 6, 7, 8, 9\n",
        "  print('5', end = \" \")"
      ],
      "execution_count": null,
      "outputs": [
        {
          "output_type": "stream",
          "text": [
            "5 5 5 5 5 5 5 5 5 5 "
          ],
          "name": "stdout"
        }
      ]
    },
    {
      "cell_type": "code",
      "metadata": {
        "colab": {
          "base_uri": "https://localhost:8080/"
        },
        "id": "Hc2IbGMY1kFy",
        "outputId": "320fa100-eec2-44bd-b001-d1596be0b44b"
      },
      "source": [
        "city = 'Bhubaneswar'\n",
        "for i in city:\n",
        "  print(i, end = \" \")\n",
        "print()\n",
        "li = [1,2 ,3, 4, 6]\n",
        "for i in li:\n",
        "  print(i, end = \" \")"
      ],
      "execution_count": null,
      "outputs": [
        {
          "output_type": "stream",
          "text": [
            "B h u b a n e s w a r \n",
            "1 2 3 4 6 "
          ],
          "name": "stdout"
        }
      ]
    },
    {
      "cell_type": "code",
      "metadata": {
        "colab": {
          "base_uri": "https://localhost:8080/"
        },
        "id": "JwW8nQEw2gLJ",
        "outputId": "cd92de49-a8d1-40f8-f28a-3a0c0e7b24a7"
      },
      "source": [
        "det = {'name' : 'John', 'Age' : 25, 'city' : 'Mumbai'}\n",
        "for i in det:\n",
        "  print(i)\n",
        "\n",
        "for i in det.values():\n",
        "  print(i, end = \" \")"
      ],
      "execution_count": null,
      "outputs": [
        {
          "output_type": "stream",
          "text": [
            "name\n",
            "Age\n",
            "city\n",
            "John 25 Mumbai "
          ],
          "name": "stdout"
        }
      ]
    },
    {
      "cell_type": "code",
      "metadata": {
        "colab": {
          "base_uri": "https://localhost:8080/"
        },
        "id": "TU0FYvw-2_Fk",
        "outputId": "7889638d-a2ba-4535-878c-64aa5aef38bc"
      },
      "source": [
        "for i in det.items():\n",
        "  print(i)"
      ],
      "execution_count": null,
      "outputs": [
        {
          "output_type": "stream",
          "text": [
            "('name', 'John')\n",
            "('Age', 25)\n",
            "('city', 'Mumbai')\n"
          ],
          "name": "stdout"
        }
      ]
    },
    {
      "cell_type": "code",
      "metadata": {
        "colab": {
          "base_uri": "https://localhost:8080/"
        },
        "id": "kXVufoII3XKE",
        "outputId": "b581803e-6fa9-4c3a-8c1b-05127df10693"
      },
      "source": [
        "x = int(input('Enter 1st value: '))\n",
        "y = int(input('Enter 2nd value: '))\n",
        "\n",
        "res = x ** y\n",
        "\n",
        "print(\"Result of the operation is\", res)\n",
        "print(f\"Result of the operation is {x ** y}\")"
      ],
      "execution_count": null,
      "outputs": [
        {
          "output_type": "stream",
          "text": [
            "Enter 1st value: 2\n",
            "Enter 2nd value: 5\n",
            "Result of the operation is 32\n",
            "Result of the operation is 32\n"
          ],
          "name": "stdout"
        }
      ]
    },
    {
      "cell_type": "code",
      "metadata": {
        "colab": {
          "base_uri": "https://localhost:8080/"
        },
        "id": "Q9Vy6Usc4Euk",
        "outputId": "eb11e1f1-d874-4cf4-82d0-e194b0fb06f2"
      },
      "source": [
        "#Functions & Decorators\n",
        "\n",
        "a = 10\n",
        "b = 20\n",
        "\n",
        "print(a + b)"
      ],
      "execution_count": null,
      "outputs": [
        {
          "output_type": "stream",
          "text": [
            "30\n"
          ],
          "name": "stdout"
        }
      ]
    },
    {
      "cell_type": "code",
      "metadata": {
        "colab": {
          "base_uri": "https://localhost:8080/"
        },
        "id": "idbK5DKS46IX",
        "outputId": "e6bb3a31-c37b-4a05-897f-986b6c2bc593"
      },
      "source": [
        "def sum(a, b):\n",
        "  return a + b\n",
        "\n",
        "x = 10\n",
        "y = 20\n",
        "print(sum(x, y))"
      ],
      "execution_count": null,
      "outputs": [
        {
          "output_type": "stream",
          "text": [
            "30\n"
          ],
          "name": "stdout"
        }
      ]
    },
    {
      "cell_type": "code",
      "metadata": {
        "colab": {
          "base_uri": "https://localhost:8080/",
          "height": 35
        },
        "id": "H4TXz6Vq5G1S",
        "outputId": "ba7bbd08-511c-4323-b7cb-534cef0d2dbe"
      },
      "source": [
        "'''\n",
        "sub()\n",
        "mul()\n",
        "div()\n",
        "add()\n",
        "'''"
      ],
      "execution_count": null,
      "outputs": [
        {
          "output_type": "execute_result",
          "data": {
            "application/vnd.google.colaboratory.intrinsic+json": {
              "type": "string"
            },
            "text/plain": [
              "'\\nsub()\\nmul()\\ndiv()\\nadd()\\n'"
            ]
          },
          "metadata": {
            "tags": []
          },
          "execution_count": 37
        }
      ]
    },
    {
      "cell_type": "code",
      "metadata": {
        "colab": {
          "base_uri": "https://localhost:8080/"
        },
        "id": "frFLz5lA6H68",
        "outputId": "111fd513-8514-4a34-ab2f-5ed8446b3802"
      },
      "source": [
        "def fun():\n",
        "  print('in a function')\n",
        "\n",
        "fun()"
      ],
      "execution_count": null,
      "outputs": [
        {
          "output_type": "stream",
          "text": [
            "in a function\n"
          ],
          "name": "stdout"
        }
      ]
    },
    {
      "cell_type": "code",
      "metadata": {
        "colab": {
          "base_uri": "https://localhost:8080/"
        },
        "id": "hb2z_MG26Rhd",
        "outputId": "745c2e88-e0cc-4e81-d0b2-2573cf18bcc1"
      },
      "source": [
        "def fun(name):\n",
        "  print('hello', name)\n",
        "\n",
        "fun('Vamsi')\n",
        "fun('Mansi')\n",
        "fun('Samuel')"
      ],
      "execution_count": null,
      "outputs": [
        {
          "output_type": "stream",
          "text": [
            "hello Vamsi\n",
            "hello Mansi\n",
            "hello Samuel\n"
          ],
          "name": "stdout"
        }
      ]
    },
    {
      "cell_type": "code",
      "metadata": {
        "id": "VQk2mA4h_5Db"
      },
      "source": [
        "\n",
        "def sub(a, b):\n",
        "  print(a - b)\n",
        "\n",
        "#decorator\n",
        "def mod_sub(fun):   # fun ~ sub\n",
        "  def inner(a, b):\n",
        "    if a < b:\n",
        "      a, b = b, a\n",
        "    fun(a, b)\n",
        "  return inner\n",
        "\n",
        "sub = mod_sub(sub)\n",
        "sub(10, 17)"
      ],
      "execution_count": null,
      "outputs": []
    },
    {
      "cell_type": "code",
      "metadata": {
        "colab": {
          "base_uri": "https://localhost:8080/"
        },
        "id": "STPpsoC86hkv",
        "outputId": "6996fa7d-6eb9-4f64-96d7-565de58c5cad"
      },
      "source": [
        "#Decorators\n",
        "\n",
        "#decorator\n",
        "def mod_sub(fun):   # fun ~ sub\n",
        "  def inner(a, b):\n",
        "    if a < b:\n",
        "      a, b = b, a\n",
        "    fun(a, b)\n",
        "  return inner\n",
        "\n",
        "@mod_sub\n",
        "def sub(a, b):\n",
        "  print(a - b)\n",
        "\n",
        "\n",
        "\n",
        "sub(10, 17)"
      ],
      "execution_count": null,
      "outputs": [
        {
          "output_type": "stream",
          "text": [
            "7\n"
          ],
          "name": "stdout"
        }
      ]
    },
    {
      "cell_type": "code",
      "metadata": {
        "colab": {
          "base_uri": "https://localhost:8080/"
        },
        "id": "g-zNIiYN7JUt",
        "outputId": "4e8a1a6f-2183-43f7-8efa-e9a8b4008728"
      },
      "source": [
        "print(type('@'))\n",
        "print(type(\"@\"))\n",
        "print(type('''@'''))"
      ],
      "execution_count": null,
      "outputs": [
        {
          "output_type": "stream",
          "text": [
            "<class 'str'>\n",
            "<class 'str'>\n",
            "<class 'str'>\n"
          ],
          "name": "stdout"
        }
      ]
    },
    {
      "cell_type": "code",
      "metadata": {
        "id": "h9qrcCUK_o5i"
      },
      "source": [
        "#Assignment Question\n",
        "'''\n",
        "Consider a person is represented by Pi, where i is the index of the following list.\n",
        "A list shows the person to whom person Pi has given the gift.\n",
        "\n",
        "Consider the below example:\n",
        "gift_presented_to = [2, 1, 5, 3, 4]\n",
        "\n",
        "This list is giving us the following details:\n",
        "Person P1 has given gift to person P2\n",
        "Person P2 has given gift to person P1\n",
        "Person P3 has given gift to person P5\n",
        "Person P4 has given gift to person P3\n",
        "Person P5 has given gift to person P4\n",
        "\n",
        "So for the given list, the list of persons from whom they have received the gift would be \n",
        "gift_received_from = [2, 1, 4, 5, 3]\n",
        "\n",
        "i.e.\n",
        "Person P1 has received gift from person P2\n",
        "Person P2 has received gift from person P1\n",
        "Person P3 has received gift from person P4\n",
        "Person P4 has received gift from person P5\n",
        "Person P5 has received gift from person P3\n",
        "\n",
        "Your task:\n",
        "\n",
        "Take input for the gift_presented_to[] list and print its respective gift_received_from[] list.\n",
        "'''"
      ],
      "execution_count": null,
      "outputs": []
    }
  ]
}