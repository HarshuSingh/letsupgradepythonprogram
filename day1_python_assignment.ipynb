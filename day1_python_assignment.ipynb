{
  "nbformat": 4,
  "nbformat_minor": 0,
  "metadata": {
    "colab": {
      "name": "day1 python assignment.ipynb",
      "provenance": []
    },
    "kernelspec": {
      "name": "python3",
      "display_name": "Python 3"
    },
    "language_info": {
      "name": "python"
    }
  },
  "cells": [
    {
      "cell_type": "code",
      "metadata": {
        "id": "-rsfnh5yGGFY"
      },
      "source": [
        "#day1 python assignment"
      ],
      "execution_count": null,
      "outputs": []
    },
    {
      "cell_type": "code",
      "metadata": {
        "colab": {
          "base_uri": "https://localhost:8080/"
        },
        "id": "iyXABq9GGLsw",
        "outputId": "8fd1826d-d813-4457-db6c-775ecfa604b7"
      },
      "source": [
        "numbers = [19, 31, 42, 29, 23, 182, 2]\n",
        "\n",
        "# Sorting list of Integers in descending\n",
        "numbers.sort(reverse = True)\n",
        "\n",
        "print(numbers)\n"
      ],
      "execution_count": null,
      "outputs": [
        {
          "output_type": "stream",
          "text": [
            "[182, 42, 31, 29, 23, 19, 2]\n"
          ],
          "name": "stdout"
        }
      ]
    }
  ]
}