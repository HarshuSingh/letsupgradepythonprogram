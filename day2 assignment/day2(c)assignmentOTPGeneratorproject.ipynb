{
  "nbformat": 4,
  "nbformat_minor": 0,
  "metadata": {
    "colab": {
      "name": "day2(c)assignmentOTPGeneratorproject.ipynb",
      "provenance": []
    },
    "kernelspec": {
      "name": "python3",
      "display_name": "Python 3"
    },
    "language_info": {
      "name": "python"
    }
  },
  "cells": [
    {
      "cell_type": "code",
      "metadata": {
        "colab": {
          "base_uri": "https://localhost:8080/"
        },
        "id": "C0cHdNckzn1r",
        "outputId": "362845b4-319a-4be4-92a2-169ba42cfc9c"
      },
      "source": [
        "import random as r\n",
        "import string\n",
        "length = 6\n",
        "otp = ''\n",
        "characters = string.ascii_letters + string.digits\n",
        "print(characters)\n",
        "\n",
        "for i in range(length):\n",
        "  otp = otp + r.choice(characters)\n",
        "\n",
        "  print(\"OTP:\", otp)\n",
        "  \n"
      ],
      "execution_count": 2,
      "outputs": [
        {
          "output_type": "stream",
          "text": [
            "abcdefghijklmnopqrstuvwxyzABCDEFGHIJKLMNOPQRSTUVWXYZ0123456789\n",
            "OTP: l\n",
            "OTP: lY\n",
            "OTP: lYs\n",
            "OTP: lYsR\n",
            "OTP: lYsRG\n",
            "OTP: lYsRG7\n"
          ],
          "name": "stdout"
        }
      ]
    },
    {
      "cell_type": "code",
      "metadata": {
        "id": "wA6ruk2Q1Euu"
      },
      "source": [
        ""
      ],
      "execution_count": null,
      "outputs": []
    }
  ]
}