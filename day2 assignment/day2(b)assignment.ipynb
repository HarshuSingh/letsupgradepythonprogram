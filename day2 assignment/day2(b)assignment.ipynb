{
  "nbformat": 4,
  "nbformat_minor": 0,
  "metadata": {
    "colab": {
      "name": "day2(b)assignment.ipynb",
      "provenance": []
    },
    "kernelspec": {
      "name": "python3",
      "display_name": "Python 3"
    },
    "language_info": {
      "name": "python"
    }
  },
  "cells": [
    {
      "cell_type": "code",
      "metadata": {
        "colab": {
          "base_uri": "https://localhost:8080/"
        },
        "id": "ZUVKDaJGcoW_",
        "outputId": "9654cf06-c8bc-4f68-9fa1-37b0fe8abc46"
      },
      "source": [
        "# Check if the string is pangram\n",
        "import string\n",
        "\n",
        "def ispangram(str):\n",
        "\talphabet = \"abcdefghijklmnopqrstuvwxyz\"\n",
        "\tfor char in alphabet:\n",
        "\t\tif char not in str.lower():\n",
        "\t\t\treturn False\n",
        "\n",
        "\treturn True\n",
        "\t\n",
        "string = 'the quick brown fox jumps over the lazy dog'\n",
        "if(ispangram(string) == True):\n",
        "\tprint(\"Yes\")\n",
        "else:\n",
        "\tprint(\"No\")\n"
      ],
      "execution_count": 1,
      "outputs": [
        {
          "output_type": "stream",
          "text": [
            "Yes\n"
          ],
          "name": "stdout"
        }
      ]
    }
  ]
}