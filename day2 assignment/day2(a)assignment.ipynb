{
  "nbformat": 4,
  "nbformat_minor": 0,
  "metadata": {
    "colab": {
      "name": "day2(a)assignment.ipynb",
      "provenance": []
    },
    "kernelspec": {
      "name": "python3",
      "display_name": "Python 3"
    },
    "language_info": {
      "name": "python"
    }
  },
  "cells": [
    {
      "cell_type": "code",
      "metadata": {
        "colab": {
          "base_uri": "https://localhost:8080/"
        },
        "id": "gzw8E7WNb60x",
        "outputId": "3ef1b37f-86b8-4e1a-be2b-d9bef41177d0"
      },
      "source": [
        "list = [10, 20, 10, 30, 10, 40, 10, 50]\n",
        "# number (n) to be removed\n",
        "n = 10\n",
        "\n",
        "# print original list \n",
        "print (\"Original list:\")\n",
        "print (list)\n",
        "i=0 #loop counter\n",
        "length = len(list)  #list length \n",
        "while(i<length):\n",
        "\tif(list[i]==n):\n",
        "\t\tlist.remove (list[i])\n",
        "\t\tlength = length -1   \n",
        "\t\tcontinue\n",
        "\ti = i+1\n",
        "\n",
        "print (\"list after removing elements:\")\n",
        "print (list)"
      ],
      "execution_count": 1,
      "outputs": [
        {
          "output_type": "stream",
          "text": [
            "Original list:\n",
            "[10, 20, 10, 30, 10, 40, 10, 50]\n",
            "list after removing elements:\n",
            "[20, 30, 40, 50]\n"
          ],
          "name": "stdout"
        }
      ]
    }
  ]
}